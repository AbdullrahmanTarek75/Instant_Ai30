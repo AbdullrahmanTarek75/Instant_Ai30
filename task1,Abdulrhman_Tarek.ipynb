{
  "cells": [
    {
      "cell_type": "markdown",
      "id": "2e6129a7",
      "metadata": {
        "id": "2e6129a7"
      },
      "source": [
        "## WAP to enter a number from user and print its absolute value.*"
      ]
    },
    {
      "cell_type": "code",
      "execution_count": 2,
      "id": "1a2b81cb",
      "metadata": {
        "id": "1a2b81cb",
        "colab": {
          "base_uri": "https://localhost:8080/"
        },
        "outputId": "7db8cff0-4892-473f-b60f-8386e8678c47"
      },
      "outputs": [
        {
          "output_type": "stream",
          "name": "stdout",
          "text": [
            "please enter a number -8\n",
            "8\n"
          ]
        }
      ],
      "source": [
        "# @title Default title text\n",
        "x=int(input(\"please enter a number \"))\n",
        "if x>0:\n",
        "    print(x)\n",
        "else:\n",
        "    print(x*-1)"
      ]
    },
    {
      "cell_type": "code",
      "source": [
        "y=int(input(\"please enter a number \"))\n",
        "print(abs(y))"
      ],
      "metadata": {
        "id": "2gVEnZbevmhN",
        "colab": {
          "base_uri": "https://localhost:8080/"
        },
        "outputId": "00e6e8f2-063a-4463-adf6-ff0f2469ebc2"
      },
      "id": "2gVEnZbevmhN",
      "execution_count": 3,
      "outputs": [
        {
          "output_type": "stream",
          "name": "stdout",
          "text": [
            "please enter a number -9\n",
            "9\n"
          ]
        }
      ]
    },
    {
      "cell_type": "markdown",
      "id": "6e4c5e8e",
      "metadata": {
        "id": "6e4c5e8e"
      },
      "source": [
        "##  WAP to enter a year from user and check if it is leap year of not."
      ]
    },
    {
      "cell_type": "code",
      "execution_count": 5,
      "id": "98f7d9fc",
      "metadata": {
        "id": "98f7d9fc",
        "colab": {
          "base_uri": "https://localhost:8080/"
        },
        "outputId": "06fd0739-0be1-43b0-f0ee-10ebbd950bfb"
      },
      "outputs": [
        {
          "output_type": "stream",
          "name": "stdout",
          "text": [
            "Please enter year1900\n",
            "not leap year\n"
          ]
        }
      ],
      "source": [
        "year=int(input(\"Please enter year\"))\n",
        "if year % 100==0 and year%400 != 0:\n",
        "    print(\"not leap year\")\n",
        "else:\n",
        "    if year%4 == 0  :\n",
        "        print(\"leap year\")"
      ]
    },
    {
      "cell_type": "markdown",
      "id": "30b689c8",
      "metadata": {
        "id": "30b689c8"
      },
      "source": [
        "## WAP to enter the age of 3 person and print oldest and yougest among them."
      ]
    },
    {
      "cell_type": "code",
      "execution_count": 6,
      "id": "c166f026",
      "metadata": {
        "id": "c166f026",
        "colab": {
          "base_uri": "https://localhost:8080/"
        },
        "outputId": "72f27424-d6fb-4607-befa-4d9b5e7efb8f"
      },
      "outputs": [
        {
          "output_type": "stream",
          "name": "stdout",
          "text": [
            "please enter first age10\n",
            "please enter second age30\n",
            "please enter third age20\n",
            "the oldest person is 30\n",
            "the yougest person is 10\n",
            "the  among them is 20\n"
          ]
        }
      ],
      "source": [
        "x=int(input(\"please enter first age\"))\n",
        "y=int(input(\"please enter second age\"))\n",
        "z=int(input(\"please enter third age\"))\n",
        "if x>y and x>z :\n",
        "     print (\"the oldest person is\",x)\n",
        "elif y>x and y>z:\n",
        "    print (\"the oldest person is\",y)\n",
        "else:\n",
        "   print (\"the oldest person is\",z)\n",
        "if x<y and x<z :\n",
        "     print (\"the yougest person is\",x)\n",
        "elif y<x and y<z:\n",
        "    print (\"the yougest person is\",y)\n",
        "else:\n",
        "   print (\"the yougest person is\",z)\n",
        "\n",
        "if x>y and x<z :\n",
        "     print (\"the  among them  is\",x)\n",
        "elif y>x and y<z:\n",
        "    print (\"the  among them is\",y)\n",
        "else:\n",
        "   print (\"the  among them is\",z)"
      ]
    },
    {
      "cell_type": "code",
      "source": [
        "x=int(input(\"please enter first age\"))\n",
        "y=int(input(\"please enter second age\"))\n",
        "z=int(input(\"please enter third age\"))\n",
        "print(\"the oldest person is\",max(x,y,z))\n",
        "print(\"the yougest person is\",min(x,y,z))\n",
        "print(\"the among them is\",(x+y+z)-(max(x,y,z)+min(x,y,z)))"
      ],
      "metadata": {
        "id": "ytzkuYtnv5Ts",
        "colab": {
          "base_uri": "https://localhost:8080/"
        },
        "outputId": "bfe183e9-403b-49cb-ad42-a2d06b0e46e3"
      },
      "id": "ytzkuYtnv5Ts",
      "execution_count": 7,
      "outputs": [
        {
          "output_type": "stream",
          "name": "stdout",
          "text": [
            "please enter first age40\n",
            "please enter second age20\n",
            "please enter third age9\n",
            "the oldest person is 40\n",
            "the yougest person is 9\n",
            "the among them is 20\n"
          ]
        }
      ]
    },
    {
      "cell_type": "markdown",
      "id": "b7a31e5f",
      "metadata": {
        "id": "b7a31e5f"
      },
      "source": [
        "## Write a program that asks the user to enter a series of numbers. The program should ask for numbers until the user enters a negative number. Once the user enters a negative number, the program should stop and print the sum of all the positive numbers entered\n",
        "\n",
        "## Example\n",
        "\n",
        "\n",
        "### Enter a number: 5\n",
        "### Enter a number: 8\n",
        "### Enter a number: 12\n",
        "### Enter a number: -2\n",
        "### The sum of the positive numbers is 25."
      ]
    },
    {
      "cell_type": "code",
      "execution_count": null,
      "id": "daf372d4",
      "metadata": {
        "id": "daf372d4",
        "outputId": "be98160b-20aa-434a-f2a9-ad390ca5aaa4",
        "colab": {
          "base_uri": "https://localhost:8080/"
        }
      },
      "outputs": [
        {
          "output_type": "stream",
          "name": "stdout",
          "text": [
            "Enter a number: 8\n",
            "Enter a number: 12\n",
            "Enter a number: 5\n",
            "Enter a number: -5\n",
            "the sum of the positive numbers is 25\n"
          ]
        }
      ],
      "source": [
        "sum=0\n",
        "while True:\n",
        "    x=int(input(\"Enter a number: \"))\n",
        "    if(x>0):\n",
        "        sum+=x\n",
        "    else :\n",
        "        break\n",
        "print(\"the sum of the positive numbers is\",sum)"
      ]
    },
    {
      "cell_type": "markdown",
      "id": "7e526aaa",
      "metadata": {
        "id": "7e526aaa"
      },
      "source": [
        "## Write a program that asks the user to enter their name and age. The program should check if the user's age is greater than or equal to 18. If it is, the program should print a message saying they are eligible to vote. Otherwise, the program should print a message saying they are not eligible to vote due to being underage.\n"
      ]
    },
    {
      "cell_type": "code",
      "execution_count": null,
      "id": "96c50bdf",
      "metadata": {
        "id": "96c50bdf"
      },
      "outputs": [],
      "source": [
        "while True:\n",
        "    x=input(\"Enter your name: \")\n",
        "    age=int(input(\"Enter your age: \"))\n",
        "    if(age>=18):\n",
        "        print(x,\"and your age is:\",age,\",You are eligible to vote\")\n",
        "    else:\n",
        "        print(x,\"and your age is:\",age,\",You are not eligible to vote due to being underage\")"
      ]
    }
  ],
  "metadata": {
    "kernelspec": {
      "display_name": "Python 3 (ipykernel)",
      "language": "python",
      "name": "python3"
    },
    "language_info": {
      "codemirror_mode": {
        "name": "ipython",
        "version": 3
      },
      "file_extension": ".py",
      "mimetype": "text/x-python",
      "name": "python",
      "nbconvert_exporter": "python",
      "pygments_lexer": "ipython3",
      "version": "3.9.12"
    },
    "colab": {
      "provenance": []
    }
  },
  "nbformat": 4,
  "nbformat_minor": 5
}