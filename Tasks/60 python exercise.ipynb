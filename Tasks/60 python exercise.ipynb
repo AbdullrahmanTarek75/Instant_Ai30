{
 "cells": [
  {
   "cell_type": "markdown",
   "id": "759d04ba",
   "metadata": {},
   "source": [
    "**1-Write a Python program to calculate the length of a string using 2 ways"
   ]
  },
  {
   "cell_type": "code",
   "execution_count": 13,
   "id": "e434c950",
   "metadata": {},
   "outputs": [
    {
     "name": "stdout",
     "output_type": "stream",
     "text": [
      "10\n"
     ]
    }
   ],
   "source": [
    "x=\"abdo tarek\"\n",
    "print(len(x))"
   ]
  },
  {
   "cell_type": "code",
   "execution_count": 14,
   "id": "0731eea0",
   "metadata": {},
   "outputs": [
    {
     "name": "stdout",
     "output_type": "stream",
     "text": [
      "10\n"
     ]
    }
   ],
   "source": [
    "length_of_string=0\n",
    "for i in x:\n",
    "    length_of_string+=1\n",
    "print(length_of_string)"
   ]
  },
  {
   "cell_type": "code",
   "execution_count": 15,
   "id": "7a2dfa32",
   "metadata": {},
   "outputs": [
    {
     "name": "stdout",
     "output_type": "stream",
     "text": [
      "10\n"
     ]
    }
   ],
   "source": [
    "xx=x+\"#\"\n",
    "i=0\n",
    "while xx[i] !=\"#\":\n",
    "    i+=1\n",
    "print(i)"
   ]
  },
  {
   "cell_type": "markdown",
   "id": "d7cc9da7",
   "metadata": {},
   "source": [
    "**2-Write a Python program to get a string made of the first 2 and last 2 characters of a given string. If the string length is less than 2, return the empty string instead (\"##Sample String : 'w3resource'\n",
    "Expected Result : 'w3ce'\n",
    "##Sample String : 'w3'\n",
    "Expected Result : 'w3w3'\n",
    "##Sample String : ' w'\n",
    "Expected Result : Empty String)"
   ]
  },
  {
   "cell_type": "code",
   "execution_count": 19,
   "id": "dafa9dd8",
   "metadata": {},
   "outputs": [
    {
     "name": "stdout",
     "output_type": "stream",
     "text": [
      "Empty String\n"
     ]
    }
   ],
   "source": [
    "x=input()\n",
    "if len(x)<=2:\n",
    "    print(\"Empty String\")\n",
    "else:\n",
    "    print(x[0]+x[1]+x[len(x)-2]+x[len(x)-1])"
   ]
  },
  {
   "cell_type": "markdown",
   "id": "1534f956",
   "metadata": {},
   "source": [
    "**3-Write a Python program to add 'ing' at the end of a given string (length should be at least 3). If the given string already ends with 'ing', add 'ly' instead. If the string length of the given string is less than 3, leave it unchanged. (Sample String : 'abc'\n",
    "Expected Result : 'abcing')"
   ]
  },
  {
   "cell_type": "code",
   "execution_count": 27,
   "id": "7ff8cec4",
   "metadata": {},
   "outputs": [
    {
     "name": "stdout",
     "output_type": "stream",
     "text": [
      "ab\n"
     ]
    }
   ],
   "source": [
    "x=input()\n",
    "if(len(x)>=3):\n",
    "    if(x[-3:]==\"ing\"):\n",
    "        print(x+\"ly\")\n",
    "    else:\n",
    "        print(x+\"ing\")\n",
    "else:\n",
    "    print(x)\n"
   ]
  },
  {
   "cell_type": "markdown",
   "id": "1c0a6627",
   "metadata": {},
   "source": [
    "**4-Write a Python function that takes a list of words and return the longest word and the length of the longest one\n",
    "(Longest word: Exercises\n",
    "Length of the longest word: 9)"
   ]
  },
  {
   "cell_type": "code",
   "execution_count": 50,
   "id": "397341d9",
   "metadata": {},
   "outputs": [
    {
     "name": "stdout",
     "output_type": "stream",
     "text": [
      "aaaaaaaaaaaaaaaaaaz;slkjh\n",
      "25\n"
     ]
    }
   ],
   "source": [
    "def longestword(list):\n",
    "    longest_word = list[0] \n",
    "    for word in list:\n",
    "        if len(word) > len(longest_word):\n",
    "            longest_word = word\n",
    "    return longest_word\n",
    "ff = [\"zabccccccvvvdlkokop\",\"abcdfffffeg\",\"abcdfhjk\",\"aaaaaaaaaaaaaaaaaaz;slkjh\"]\n",
    "longest_word = longestword(ff)\n",
    "print( longest_word)\n",
    "print( len(longest_word))"
   ]
  },
  {
   "cell_type": "markdown",
   "id": "53a03a6a",
   "metadata": {},
   "source": [
    "**5-Write a Python program to change a given string to a newly string where the first and last chars have been exchanged using 2 ways (Sample String:abca  Expected Result:ebce)"
   ]
  },
  {
   "cell_type": "code",
   "execution_count": 26,
   "id": "fd327d2a",
   "metadata": {},
   "outputs": [
    {
     "name": "stdout",
     "output_type": "stream",
     "text": [
      "abgjhkjkck\n"
     ]
    }
   ],
   "source": [
    "strr=\"kbgjhkjkca\"\n",
    "strr=strr[-1]+strr[1:-1]+strr[0] \n",
    "print(strr)\n"
   ]
  },
  {
   "cell_type": "code",
   "execution_count": 28,
   "id": "285788b4",
   "metadata": {},
   "outputs": [
    {
     "name": "stdout",
     "output_type": "stream",
     "text": [
      "dbdpsa\n"
     ]
    }
   ],
   "source": [
    "xcv=[]\n",
    "newstring=\"\"\n",
    "xcl=0\n",
    "strr1=\"abdpsd\"\n",
    "for i in strr1:\n",
    "    xcv.append(strr1[xcl])\n",
    "    xcl+=1\n",
    "xcv[0],xcv[-1]=xcv[-1],xcv[0]\n",
    "for i in xcv:\n",
    "    newstring+=i\n",
    "print(newstring)\n"
   ]
  },
  {
   "cell_type": "markdown",
   "id": "25f89808",
   "metadata": {},
   "source": [
    "**6-Write a Python program to remove characters that have odd index values in a given string (Sample String:abca Expected Result:ac)"
   ]
  },
  {
   "cell_type": "code",
   "execution_count": 12,
   "id": "05959bd7",
   "metadata": {},
   "outputs": [
    {
     "name": "stdout",
     "output_type": "stream",
     "text": [
      "acba\n"
     ]
    }
   ],
   "source": [
    "c=\"axcvbca\"\n",
    "xz=\"\"\n",
    "xl=0\n",
    "for i in c:\n",
    "    if xl %2==0:\n",
    "        xz+=c[xl]\n",
    "    xl+=1\n",
    "print(xz)\n",
    "\n"
   ]
  },
  {
   "cell_type": "markdown",
   "id": "eb16e898",
   "metadata": {},
   "source": [
    "**7-Write a Python program to count the occurrences of each word in a given sentence (Sample String:amr and ahmed are frindes but amr is the tallest Expected Result:2)"
   ]
  },
  {
   "cell_type": "code",
   "execution_count": 53,
   "id": "01ce6cf5",
   "metadata": {},
   "outputs": [
    {
     "name": "stdout",
     "output_type": "stream",
     "text": [
      "amr word is repeated 2 times\n",
      "and word is repeated 1 times\n",
      "ahmed word is repeated 1 times\n",
      "are word is repeated 1 times\n",
      "frindes word is repeated 1 times\n",
      "but word is repeated 1 times\n",
      "amr word is repeated 2 times\n",
      "is word is repeated 1 times\n",
      "the word is repeated 1 times\n",
      "tallest word is repeated 1 times\n"
     ]
    }
   ],
   "source": [
    "cvb=\"amr and ahmed are frindes but amr is the tallest\"\n",
    "m=cvb.split()\n",
    "for  i in m:\n",
    "    print(f\"{i} word is repeated\",cvb.count(i),\"times\")"
   ]
  },
  {
   "cell_type": "markdown",
   "id": "4e8125f1",
   "metadata": {},
   "source": [
    "**8-Write a Python script that takes input from the user and displays that input back in upper and lower cases"
   ]
  },
  {
   "cell_type": "code",
   "execution_count": 30,
   "id": "66c8f778",
   "metadata": {},
   "outputs": [
    {
     "name": "stdout",
     "output_type": "stream",
     "text": [
      "ABC\n",
      "abc\n"
     ]
    }
   ],
   "source": [
    "vb=input()\n",
    "print(vb.upper())\n",
    "print(vb.lower())"
   ]
  },
  {
   "cell_type": "markdown",
   "id": "fcd68aa1",
   "metadata": {},
   "source": [
    "**9-Write a Python function to reverse a string if its length is a multiple of 4"
   ]
  },
  {
   "cell_type": "code",
   "execution_count": 35,
   "id": "0671a931",
   "metadata": {},
   "outputs": [],
   "source": [
    "xb=input()\n",
    "if(len(xb)%4==0):\n",
    "    print(xb[::-1])"
   ]
  },
  {
   "cell_type": "markdown",
   "id": "b577c68d",
   "metadata": {},
   "source": [
    "**10- Write a Python program to remove a newline in Python"
   ]
  },
  {
   "cell_type": "code",
   "execution_count": 43,
   "id": "e0c6525a",
   "metadata": {},
   "outputs": [
    {
     "name": "stdout",
     "output_type": "stream",
     "text": [
      "abdo tarek hello world كله تحت الكنترول\n"
     ]
    }
   ],
   "source": [
    "x='''abdo tarek\n",
    "hello world\n",
    "كله تحت الكنترول'''\n",
    "print(x.replace(\"\\n\",\" \"))"
   ]
  },
  {
   "cell_type": "markdown",
   "id": "80db5ae0",
   "metadata": {},
   "source": [
    "**11-Write a Python program to check whether a string starts with specified characters"
   ]
  },
  {
   "cell_type": "code",
   "execution_count": 57,
   "id": "0cc4e03e",
   "metadata": {},
   "outputs": [
    {
     "data": {
      "text/plain": [
       "True"
      ]
     },
     "execution_count": 57,
     "metadata": {},
     "output_type": "execute_result"
    }
   ],
   "source": [
    "stt=\"abood is جضاان\"\n",
    "stt.startswith(\"abood\")"
   ]
  },
  {
   "cell_type": "markdown",
   "id": "593a68db",
   "metadata": {},
   "source": [
    "**12- Write a Python program to add prefix text to all of the lines in a string"
   ]
  },
  {
   "cell_type": "code",
   "execution_count": 65,
   "id": "d2e46ada",
   "metadata": {},
   "outputs": [
    {
     "name": "stdout",
     "output_type": "stream",
     "text": [
      "\n",
      " heloo abood\n",
      " heloo ahmed\n",
      " heloo gogo\n"
     ]
    }
   ],
   "source": [
    "xcz='''\n",
    "abood\n",
    "ahmed\n",
    "gogo'''\n",
    "print(xcz.replace(\"\\n\",\"\\n heloo \"))"
   ]
  },
  {
   "cell_type": "markdown",
   "id": "86fa1543",
   "metadata": {},
   "source": [
    "**13-Write a Python program to print the following numbers up to 2 decimal places"
   ]
  },
  {
   "cell_type": "code",
   "execution_count": 77,
   "id": "cd4a9d89",
   "metadata": {},
   "outputs": [
    {
     "name": "stdout",
     "output_type": "stream",
     "text": [
      "-10.58\n",
      "-10.5\n"
     ]
    }
   ],
   "source": [
    "kk=10.57865\n",
    "print(f\"{kk:.2f}\")\n",
    "print(str(kk)[:5:])"
   ]
  },
  {
   "cell_type": "markdown",
   "id": "452c0ab0",
   "metadata": {},
   "source": [
    "**14-Write a Python program to print the following numbers up to 2 decimal places with a sign"
   ]
  },
  {
   "cell_type": "code",
   "execution_count": 85,
   "id": "73e82479",
   "metadata": {},
   "outputs": [
    {
     "name": "stdout",
     "output_type": "stream",
     "text": [
      "-1252250.33\n",
      "-12522\n"
     ]
    }
   ],
   "source": [
    "kk=-10.33325\n",
    "if kk<0:\n",
    "    print(f\"{kk:.2f}\")\n",
    "    print(str(kk)[:6:])"
   ]
  },
  {
   "cell_type": "markdown",
   "id": "32b1811a",
   "metadata": {},
   "source": [
    "**15-Write a Python program to display a number with a comma separator"
   ]
  },
  {
   "cell_type": "code",
   "execution_count": 87,
   "id": "f30fc0b6",
   "metadata": {},
   "outputs": [
    {
     "name": "stdout",
     "output_type": "stream",
     "text": [
      "2,525,050,510\n"
     ]
    }
   ],
   "source": [
    "k=2525050510\n",
    "print(f\"{k:,}\")"
   ]
  },
  {
   "cell_type": "markdown",
   "id": "0477f487",
   "metadata": {},
   "source": [
    "**16-Write a Python program to reverse a string using 2 ways"
   ]
  },
  {
   "cell_type": "code",
   "execution_count": 100,
   "id": "aa8beec8",
   "metadata": {},
   "outputs": [
    {
     "name": "stdout",
     "output_type": "stream",
     "text": [
      "tgfdcba\n",
      "tgfdcba\n"
     ]
    }
   ],
   "source": [
    "fhj=\"abcdfgt\"\n",
    "print(fhj[::-1])\n",
    "#####################\n",
    "x=list(reversed(fhj))\n",
    "xxx=\"\"\n",
    "for i in x:\n",
    "    xxx+=i\n",
    "print(xxx)"
   ]
  },
  {
   "cell_type": "markdown",
   "id": "5afc3166",
   "metadata": {},
   "source": [
    " **17-Write a Python program to count repeated characters in a string (hint:use dictionary)"
   ]
  },
  {
   "cell_type": "code",
   "execution_count": 18,
   "id": "515a469c",
   "metadata": {},
   "outputs": [
    {
     "name": "stdout",
     "output_type": "stream",
     "text": [
      "Repeated characters:\n",
      "Abdo: 2\n"
     ]
    }
   ],
   "source": [
    "s = {1: \"Abdo\", 2: \"Tarek\", 3: \"Salah\", 4: \"Abdo\"}\n",
    "ccount = {}\n",
    "for key in s:\n",
    "    if s[key] in ccount:\n",
    "        ccount[s[key]] += 1\n",
    "    else:\n",
    "        ccount[s[key]] = 1\n",
    "\n",
    "print(\"Repeated characters:\")\n",
    "for key, value in ccount.items():\n",
    "    if value > 1:\n",
    "        print(f\"{key}: {value}\")\n",
    "\n"
   ]
  },
  {
   "cell_type": "markdown",
   "id": "ae14e4e5",
   "metadata": {},
   "source": [
    "**18-Write a Python program to find the first non-repeating character in a given string"
   ]
  },
  {
   "cell_type": "code",
   "execution_count": 21,
   "id": "d73778e5",
   "metadata": {},
   "outputs": [
    {
     "name": "stdout",
     "output_type": "stream",
     "text": [
      " non Repeated characters:\n",
      "Tarek: 1\n"
     ]
    }
   ],
   "source": [
    "print(\" non Repeated characters:\")\n",
    "for key, value in ccount.items():\n",
    "    if value == 1:\n",
    "        print(f\"{key}: {value}\")\n",
    "        break"
   ]
  },
  {
   "cell_type": "markdown",
   "id": "3adf5669",
   "metadata": {},
   "source": [
    "**19-Write a Python program to remove spaces from a given string"
   ]
  },
  {
   "cell_type": "code",
   "execution_count": 101,
   "id": "b4f22602",
   "metadata": {},
   "outputs": [
    {
     "name": "stdout",
     "output_type": "stream",
     "text": [
      "Abdotareksalah\n"
     ]
    }
   ],
   "source": [
    "ss=\"Abdo tarek salah\"\n",
    "print(ss.replace(\" \",\"\"))"
   ]
  },
  {
   "cell_type": "markdown",
   "id": "734de60c",
   "metadata": {},
   "source": [
    "**20-Write a Python program to count the number of non-empty substrings of a given string"
   ]
  },
  {
   "cell_type": "code",
   "execution_count": 26,
   "id": "ef3f2274",
   "metadata": {},
   "outputs": [
    {
     "name": "stdout",
     "output_type": "stream",
     "text": [
      "abood is  5\n",
      "marka is  5\n",
      "mosglaa is  7\n"
     ]
    }
   ],
   "source": [
    "dd=\"abood marka mosglaa\"\n",
    "d=dd.split()\n",
    "for f in d:\n",
    "    print(f\"{f} is \",len(f))\n"
   ]
  },
  {
   "cell_type": "markdown",
   "id": "509998e2",
   "metadata": {},
   "source": [
    "**21-write a Python program to swap first and last element of any list."
   ]
  },
  {
   "cell_type": "code",
   "execution_count": 102,
   "id": "68692d7f",
   "metadata": {},
   "outputs": [
    {
     "data": {
      "text/plain": [
       "[10, 5, 6, 7, 8, 4]"
      ]
     },
     "execution_count": 102,
     "metadata": {},
     "output_type": "execute_result"
    }
   ],
   "source": [
    "zzz=[4,5,6,7,8,10]\n",
    "zzz[0],zzz[-1]=zzz[-1],zzz[0]\n",
    "zzz"
   ]
  },
  {
   "cell_type": "markdown",
   "id": "959e0837",
   "metadata": {},
   "source": [
    "**22-Given a list in Python and provided the positions of the elements, write a program to swap the two elements in the list. (Input : List = [23, 65, 19, 90], pos1 = 1, pos2 = 3\n",
    "Output : [19, 65, 23, 90])"
   ]
  },
  {
   "cell_type": "code",
   "execution_count": 103,
   "id": "225d8c6d",
   "metadata": {},
   "outputs": [
    {
     "data": {
      "text/plain": [
       "[19, 65, 23, 90]"
      ]
     },
     "execution_count": 103,
     "metadata": {},
     "output_type": "execute_result"
    }
   ],
   "source": [
    "xlist=[23,65,19,90]\n",
    "pos1=1\n",
    "pos2=3\n",
    "xlist[pos1-1],xlist[pos2-1]=xlist[pos2-1],xlist[pos1-1]\n",
    "xlist\n"
   ]
  },
  {
   "cell_type": "markdown",
   "id": "66fc6682",
   "metadata": {},
   "source": [
    "**23- search for the all ways to know the length of the list"
   ]
  },
  {
   "cell_type": "code",
   "execution_count": 106,
   "id": "63ff8b43",
   "metadata": {},
   "outputs": [
    {
     "name": "stdout",
     "output_type": "stream",
     "text": [
      "3\n",
      "3\n"
     ]
    }
   ],
   "source": [
    "x=[1,2,3]\n",
    "print(len(x))\n",
    "################\n",
    "i=0\n",
    "for m in x:\n",
    "    i+=1\n",
    "print(i)\n",
    "################\n",
    "##في طريقة"
   ]
  },
  {
   "cell_type": "markdown",
   "id": "4e5f8e8f",
   "metadata": {},
   "source": [
    "**24-write a Python code to find the Maximum number of list of numbers."
   ]
  },
  {
   "cell_type": "code",
   "execution_count": 107,
   "id": "15f342de",
   "metadata": {},
   "outputs": [
    {
     "name": "stdout",
     "output_type": "stream",
     "text": [
      "125\n"
     ]
    }
   ],
   "source": [
    "llk=[5,4,8,125]\n",
    "print(max(llk))"
   ]
  },
  {
   "cell_type": "markdown",
   "id": "ffd9e1d1",
   "metadata": {},
   "source": [
    "**25-write a Python code to find the Minimum number of list of numbers."
   ]
  },
  {
   "cell_type": "code",
   "execution_count": 108,
   "id": "21f8cbd6",
   "metadata": {},
   "outputs": [
    {
     "name": "stdout",
     "output_type": "stream",
     "text": [
      "4\n"
     ]
    }
   ],
   "source": [
    "print(min(llk))"
   ]
  },
  {
   "cell_type": "markdown",
   "id": "96822d96",
   "metadata": {},
   "source": [
    "**26-search for if an elem is existing in list"
   ]
  },
  {
   "cell_type": "code",
   "execution_count": 118,
   "id": "51ca5c9a",
   "metadata": {},
   "outputs": [
    {
     "data": {
      "text/plain": [
       "True"
      ]
     },
     "execution_count": 118,
     "metadata": {},
     "output_type": "execute_result"
    }
   ],
   "source": [
    "kjh=[\"ff\",\"aa\",\"cc\"]\n",
    "\"ff\" in kjh\n",
    "     "
   ]
  },
  {
   "cell_type": "markdown",
   "id": "d9557da7",
   "metadata": {},
   "source": [
    "**27- clear python list using different ways"
   ]
  },
  {
   "cell_type": "code",
   "execution_count": 201,
   "id": "b69858a3",
   "metadata": {},
   "outputs": [
    {
     "name": "stdout",
     "output_type": "stream",
     "text": [
      "[]\n"
     ]
    }
   ],
   "source": [
    "wer=[1,5,7,8]\n",
    "wer.clear\n",
    "##################\n",
    "for gg in wer[:]:\n",
    "    wer.remove(gg)\n",
    "print(wer)\n",
    "\n",
    "####################"
   ]
  },
  {
   "cell_type": "markdown",
   "id": "52160e88",
   "metadata": {},
   "source": [
    "**28-remove duplicated elements from a list"
   ]
  },
  {
   "cell_type": "code",
   "execution_count": 27,
   "id": "5e362228",
   "metadata": {},
   "outputs": [
    {
     "data": {
      "text/plain": [
       "[2, 6, 5, 4]"
      ]
     },
     "execution_count": 27,
     "metadata": {},
     "output_type": "execute_result"
    }
   ],
   "source": [
    "bn=[2,5,6,4,5,4]\n",
    "for i in bn:\n",
    "    if(bn.count(i)>1):\n",
    "        bn.remove(i)\n",
    "bn\n"
   ]
  },
  {
   "cell_type": "markdown",
   "id": "282337f7",
   "metadata": {},
   "source": [
    "**29-Given list values and keys list, convert these values to key value pairs in form of list of dictionaries. (Input : test_list = [“Gfg”, 3, “is”, 8], key_list = [“name”, “id”]\n",
    "Output : [{‘name’: ‘Gfg’, ‘id’: 3}, {‘name’: ‘is’, ‘id’: 8}])"
   ]
  },
  {
   "cell_type": "code",
   "execution_count": 72,
   "id": "4d4e2d28",
   "metadata": {},
   "outputs": [
    {
     "data": {
      "text/plain": [
       "[{'name': 'is', 'id': 8}, {'name': 'Gfg', 'id': 3}]"
      ]
     },
     "execution_count": 72,
     "metadata": {},
     "output_type": "execute_result"
    }
   ],
   "source": [
    "test_list = [\"Gfg\", 3, \"is\", 8]\n",
    "key_list = [\"name\", \"id\"]\n",
    "output1={}\n",
    "output={}\n",
    "for i in range(len(test_list)) :\n",
    "    if i<=1:\n",
    "        output1[key_list[i]]=test_list[i]\n",
    "    else:\n",
    "        output[key_list[i-2]]=test_list[i]\n",
    "  \n",
    "listy=[]\n",
    "listy.append(output)\n",
    "listy.append(output1)\n",
    "listy\n",
    "\n",
    "\n",
    "\n"
   ]
  },
  {
   "cell_type": "markdown",
   "id": "c26b6e9f",
   "metadata": {},
   "source": [
    "**30-write a python program to count unique values inside a list using different ways"
   ]
  },
  {
   "cell_type": "code",
   "execution_count": 32,
   "id": "72132667",
   "metadata": {},
   "outputs": [
    {
     "name": "stdout",
     "output_type": "stream",
     "text": [
      "2\n",
      "6\n"
     ]
    }
   ],
   "source": [
    "bn=[2,5,6,4,5,4]\n",
    "cx=0\n",
    "for i in bn:\n",
    "    if(bn.count(i)==1):\n",
    "        print(f\"{i}\")"
   ]
  },
  {
   "cell_type": "markdown",
   "id": "fed6677c",
   "metadata": {},
   "source": [
    "**31-write a python program Extract all elements with Frequency greater than K (Input : test_list = [4, 6, 4, 3, 3, 4, 3, 4, 3, 8], K = 3 \n",
    "Output : [4, 3] )"
   ]
  },
  {
   "cell_type": "code",
   "execution_count": 46,
   "id": "d81f3f9d",
   "metadata": {},
   "outputs": [
    {
     "data": {
      "text/plain": [
       "[3, 4]"
      ]
     },
     "execution_count": 46,
     "metadata": {},
     "output_type": "execute_result"
    }
   ],
   "source": [
    "bn=[4, 6, 4, 3, 3, 4, 3, 4, 3, 8]\n",
    "k=3\n",
    "cc=[]\n",
    "for i in bn:\n",
    "    if(bn.count(i)>=k):\n",
    "        cc.append(i)\n",
    "        cc=list(set(cc))\n",
    "\n",
    "cc"
   ]
  },
  {
   "cell_type": "markdown",
   "id": "caca5224",
   "metadata": {},
   "source": [
    "**32-write a python program to find the Strongest Neighbour (Input: 1 2 2 3 4 5\n",
    "Output: 2 2 3 4 5)"
   ]
  },
  {
   "cell_type": "code",
   "execution_count": 20,
   "id": "39fbd9b2",
   "metadata": {},
   "outputs": [
    {
     "data": {
      "text/plain": [
       "[2, 2, 3, 4, 5]"
      ]
     },
     "execution_count": 20,
     "metadata": {},
     "output_type": "execute_result"
    }
   ],
   "source": [
    "num_input=[1,2,2,3,4,5]\n",
    "result = []\n",
    "xlk=min(num_input)\n",
    "for i in num_input:\n",
    "    if i != xlk:\n",
    "        result.append(i)\n",
    "result\n",
    "        \n"
   ]
  },
  {
   "cell_type": "markdown",
   "id": "a9fa8baf",
   "metadata": {},
   "source": [
    "**33-write a Python Program to print all Possible Combinations from the three Digits (Input: [1, 2, 3]\n",
    "Output:\n",
    "1 2 3 ##\n",
    "1 3 2 ##\n",
    "2 1 3 ##\n",
    "2 3 1 ##\n",
    "3 1 2 ##\n",
    "3 2 1)"
   ]
  },
  {
   "cell_type": "code",
   "execution_count": 24,
   "id": "8c520a76",
   "metadata": {},
   "outputs": [
    {
     "name": "stdout",
     "output_type": "stream",
     "text": [
      "[1, 2, 3]\n",
      "[1, 3, 2]\n",
      "[2, 1, 3]\n",
      "[2, 3, 1]\n",
      "[3, 1, 2]\n",
      "[3, 2, 1]\n"
     ]
    }
   ],
   "source": [
    "L=[1,2,3]\n",
    "for i in range(3): \n",
    "\t\tfor j in range(3): \n",
    "\t\t\tfor k in range(3): \n",
    "\t\t\t\tif (i!=j and j!=k and i!=k): \n",
    "\t\t\t\t\tprint([L[i], L[j], L[k]])  \n",
    "\n"
   ]
  },
  {
   "cell_type": "markdown",
   "id": "5288bb89",
   "metadata": {},
   "source": [
    "**34-write a Python program to find all the Combinations in the list with the given condition (Input: test_list = [1,2,3] \n",
    "Output: \n",
    " [1], [1, 2], [1, 2, 3], [1, 3]\n",
    " [2], [2, 3], [3])"
   ]
  },
  {
   "cell_type": "code",
   "execution_count": 26,
   "id": "59b89646",
   "metadata": {},
   "outputs": [
    {
     "data": {
      "text/plain": [
       "[[1], [1, 2], [1, 2, 3], [2], [2, 3], [3]]"
      ]
     },
     "execution_count": 26,
     "metadata": {},
     "output_type": "execute_result"
    }
   ],
   "source": [
    "input_list = [1, 2, 3]\n",
    "result = []\n",
    "for i in range(len(input_list)):\n",
    "    for j in range(i + 1, len(input_list) + 1):\n",
    "        result.append(input_list[i:j])\n",
    "result"
   ]
  },
  {
   "cell_type": "markdown",
   "id": "39973705",
   "metadata": {},
   "source": [
    "**35-write a Python program to get all unique combinations of two Lists (List_1 = [\"a\",\"b\"]\n",
    "List_2 = [1,2]\n",
    "Unique_combination = [[('a',1),('b',2)],[('a',2),('b',1)]] )"
   ]
  },
  {
   "cell_type": "code",
   "execution_count": 61,
   "id": "8c4ba22b",
   "metadata": {},
   "outputs": [
    {
     "data": {
      "text/plain": [
       "[('a', 1), ('b', 2), ('a', 2), ('b', 1)]"
      ]
     },
     "execution_count": 61,
     "metadata": {},
     "output_type": "execute_result"
    }
   ],
   "source": [
    "listt1 = [\"a\", \"b\"]\n",
    "listt2 = [1, 2]\n",
    "lll = []\n",
    "for i in range(2):\n",
    "    for j in range(2):\n",
    "        if i != j:\n",
    "            t = (listt1[i], listt2[j-1])\n",
    "            lll.append(t)\n",
    "for i in range(2):\n",
    "    for j in range(2):\n",
    "        if i != j:\n",
    "            t = (listt1[i], listt2[j])\n",
    "            lll.append(t)\n",
    "lll\n"
   ]
  },
  {
   "cell_type": "markdown",
   "id": "25199af5",
   "metadata": {},
   "source": [
    "**36-Remove all the occurrences of an element from a list in Python (Input : 1 1 2 3 4 5 1 2 1 \n",
    "\n",
    "**Output : 2 3 4 5 2)"
   ]
  },
  {
   "cell_type": "code",
   "execution_count": 8,
   "id": "6dc4c2ba",
   "metadata": {},
   "outputs": [
    {
     "data": {
      "text/plain": [
       "[3, 5, 2, 1]"
      ]
     },
     "execution_count": 8,
     "metadata": {},
     "output_type": "execute_result"
    }
   ],
   "source": [
    "li=[1,1,2,3,4,5,1,2,1]\n",
    "s=0\n",
    "for d in li:\n",
    "    if(d==li[s]):\n",
    "        li.remove(d)\n",
    "    s+=1\n",
    "li"
   ]
  },
  {
   "cell_type": "markdown",
   "id": "bf1a3c93",
   "metadata": {},
   "source": [
    "**37-write a python program to Replace index elements with elements in Other List (The original list 1 is : [‘Gfg’, ‘is’, ‘best’] The original list 2 is : [0, 1, 2, 1, 0, 0, 0, 2, 1, 1, 2, 0] The lists after index elements replacements is : [‘Gfg’, ‘is’, ‘best’, ‘is’, ‘Gfg’, ‘Gfg’, ‘Gfg’, ‘best’, ‘is’, ‘is’, ‘best’, ‘Gfg’])"
   ]
  },
  {
   "cell_type": "code",
   "execution_count": 73,
   "id": "fdd66a71",
   "metadata": {},
   "outputs": [
    {
     "data": {
      "text/plain": [
       "['Gfg',\n",
       " 'is',\n",
       " 'best',\n",
       " 'is',\n",
       " 'Gfg',\n",
       " 'Gfg',\n",
       " 'Gfg',\n",
       " 'best',\n",
       " 'is',\n",
       " 'is',\n",
       " 'best',\n",
       " 'Gfg']"
      ]
     },
     "execution_count": 73,
     "metadata": {},
     "output_type": "execute_result"
    }
   ],
   "source": [
    "original_list1 =[\"Gfg\", \"is\", \"best\"] \n",
    "original_list2= [0, 1, 2, 1, 0, 0, 0, 2, 1, 1, 2, 0] \n",
    "cl=[]\n",
    "for i in original_list2:\n",
    "    cl.append(original_list1[i])\n",
    "cl\n"
   ]
  },
  {
   "cell_type": "markdown",
   "id": "af0f56e8",
   "metadata": {},
   "source": [
    "**38- write python program to Retain records with N occurrences of K(Input : test_list = [(4, 5, 5, 4), (5, 4, 3)], K = 5, N = 2 \n",
    "Output : [(4, 5, 5, 4)]\n",
    "Input : test_list = [(4, 5, 5, 4), (5, 4, 3)], K = 5, N = 3 \n",
    "Output : [] )"
   ]
  },
  {
   "cell_type": "code",
   "execution_count": 14,
   "id": "67b06671",
   "metadata": {},
   "outputs": [
    {
     "data": {
      "text/plain": [
       "[(4, 5, 5, 4)]"
      ]
     },
     "execution_count": 14,
     "metadata": {},
     "output_type": "execute_result"
    }
   ],
   "source": [
    "test_list = [(4, 5, 5, 4), (5, 4, 3)]  # test_list = [(4, 5, 5, 4), (5, 4, 3)], K = 5, N = 3 \n",
    "Kka = 5\n",
    "N = 2\n",
    "new_list=[]\n",
    "for i in test_list:\n",
    "    if (i.count(Kka)==N):\n",
    "        new_list.append(i)\n",
    "new_list\n",
    "    \n",
    "    \n",
    "\n"
   ]
  },
  {
   "cell_type": "markdown",
   "id": "de76f183",
   "metadata": {},
   "source": [
    "**39-write a Python Program to Sort the list according to the column using lambda\n",
    "array = [[1, 3, 3], [2, 1, 2], [3, 2, 1]]\n",
    "Output :\n",
    "Sorted array specific to column 0, [[1, 3, 3], [2, 1, 2], [3, 2, 1]]\n",
    "Sorted array specific to column 1, [[2, 1, 2], [3, 2, 1], [1, 3, 3]]\n",
    "Sorted array specific to column 2, [[3, 2, 1], [2, 1, 2], [1, 3, 3]]"
   ]
  },
  {
   "cell_type": "code",
   "execution_count": 56,
   "id": "dc883308",
   "metadata": {},
   "outputs": [
    {
     "name": "stdout",
     "output_type": "stream",
     "text": [
      "Sorted array specific to column 0:\n",
      "[[1, 3, 3], [2, 1, 2], [3, 2, 1]]\n",
      "Sorted array specific to column 1:\n",
      "[[2, 1, 2], [3, 2, 1], [1, 3, 3]]\n",
      "Sorted array specific to column 2:\n",
      "[[3, 2, 1], [2, 1, 2], [1, 3, 3]]\n"
     ]
    }
   ],
   "source": [
    "array = [[1, 3, 3], [2, 1, 2], [3, 2, 1]]\n",
    "\n",
    "for i in range(len(array)):\n",
    "    print(f\"Sorted array specific to column {i}:\")\n",
    "    array.sort(key=lambda x: x[i])\n",
    "    print(array)\n",
    "    array = [[1, 3, 3], [2, 1, 2], [3, 2, 1]]  "
   ]
  },
  {
   "cell_type": "markdown",
   "id": "ec1d0002",
   "metadata": {},
   "source": [
    "**40- write a program to Sort Python Dictionaries by Key or Value\n"
   ]
  },
  {
   "cell_type": "code",
   "execution_count": null,
   "id": "d2e7b31f",
   "metadata": {},
   "outputs": [],
   "source": [
    "Input:\n",
    "{'ravi': 10, 'rajnish': 9, 'sanjeev': 15, 'yash': 2, 'suraj': 32}\n",
    "\n",
    "Output: \n",
    "{'rajnish': 9, 'ravi': 10, 'sanjeev': 15, 'suraj': 32, 'yash': 2}"
   ]
  },
  {
   "cell_type": "code",
   "execution_count": 23,
   "id": "a96db4a0",
   "metadata": {},
   "outputs": [
    {
     "name": "stdout",
     "output_type": "stream",
     "text": [
      "{'rajnish': 9, 'ravi': 10, 'sanjeev': 15, 'suraj': 32, 'yash': 2}\n"
     ]
    }
   ],
   "source": [
    "inp={'ravi': 10, 'rajnish': 9, 'sanjeev': 15, 'yash': 2, 'suraj': 32}\n",
    "po={}\n",
    "y=sorted(inp)\n",
    "for p in y:\n",
    "    po[p]=inp.get(p)\n",
    "print(po)\n",
    "\n",
    "\n"
   ]
  },
  {
   "cell_type": "markdown",
   "id": "ec63c23a",
   "metadata": {},
   "source": [
    "**41-write python program to Remove keys with Values Greater than K ( Including mixed values )\n",
    "nput : test_dict = {‘Gfg’ : 3, ‘is’ : 7, ‘best’ : 10, ‘for’ : 6, ‘geeks’ : ‘CS’},\n",
    "K = 7 \n",
    "Output : {‘Gfg’ : 3, ‘for’ : 6, ‘geeks’ : ‘CS’}"
   ]
  },
  {
   "cell_type": "code",
   "execution_count": 37,
   "id": "e39c3a40",
   "metadata": {},
   "outputs": [
    {
     "name": "stdout",
     "output_type": "stream",
     "text": [
      "{'Gfg': 3, 'is': 7, 'for': 6, 'geeks': 4}\n"
     ]
    }
   ],
   "source": [
    "##test_dict = {\"Gfg\" : 3, \"is\" : 7, \"best\" : 10, \"for\" : 6, \"geeks\" : \"CS\"}\n",
    "#K = 7 \n",
    "#for t in test_dict:\n",
    " #   if (test_dict.get(t)>K):\n",
    "  #      del test_dict[t]\n",
    "#test_dict#\n",
    "#########\n",
    "test_dict = {\"Gfg\": 3, \"is\": 7, \"best\": 10, \"for\": 6, \"geeks\": 4}\n",
    "K = 7\n",
    "\n",
    "for t in list(test_dict.keys()):\n",
    "    if test_dict[t] > K:\n",
    "        del test_dict[t]\n",
    "\n",
    "print(test_dict)\n"
   ]
  },
  {
   "cell_type": "markdown",
   "id": "f143f0fe",
   "metadata": {},
   "source": [
    "**42-Write a Python program to concatenate the following dictionaries to create a new one\n",
    "\n",
    "Sample Dictionary :\n",
    "dic1={1:10, 2:20}\n",
    "dic2={3:30, 4:40}\n",
    "dic3={5:50,6:60}\n",
    "Expected Result : {1: 10, 2: 20, 3: 30, 4: 40, 5: 50, 6: 60}"
   ]
  },
  {
   "cell_type": "code",
   "execution_count": 185,
   "id": "74ffdfea",
   "metadata": {},
   "outputs": [
    {
     "data": {
      "text/plain": [
       "{1: 10, 2: 20, 3: 30, 4: 40, 5: 50, 6: 60}"
      ]
     },
     "execution_count": 185,
     "metadata": {},
     "output_type": "execute_result"
    }
   ],
   "source": [
    "dic1={1:10, 2:20}\n",
    "dic2={3:30, 4:40}\n",
    "dic3={5:50,6:60}\n",
    "dic1.update(dic2)\n",
    "dic1.update(dic3)\n",
    "dic1"
   ]
  },
  {
   "cell_type": "markdown",
   "id": "fb04c93c",
   "metadata": {},
   "source": [
    "**43-Write a Python program to iterate over dictionaries using for loops"
   ]
  },
  {
   "cell_type": "code",
   "execution_count": 179,
   "id": "6aebc470",
   "metadata": {},
   "outputs": [
    {
     "name": "stdout",
     "output_type": "stream",
     "text": [
      "{2: 4, 3: 5, 6: 9}\n",
      "{2: 4, 3: 5, 6: 9}\n",
      "{2: 4, 3: 5, 6: 9}\n"
     ]
    }
   ],
   "source": [
    "kl={2:4,3:5,6:9}\n",
    "for f in kl:\n",
    "    print(kl)"
   ]
  },
  {
   "cell_type": "markdown",
   "id": "5f491a9d",
   "metadata": {},
   "source": [
    "**44- Write a Python script to merge two Python dictionaries"
   ]
  },
  {
   "cell_type": "code",
   "execution_count": 177,
   "id": "b8a14028",
   "metadata": {},
   "outputs": [
    {
     "name": "stdout",
     "output_type": "stream",
     "text": [
      "{1: 'abood', 2: 'tarek', 3: 'love', 4: 'gohkjkjl,na'}\n"
     ]
    }
   ],
   "source": [
    "d1 = {1:\"abood\", 2:\"tarek\"}\n",
    "d2 = {3:\"love\", 4:\"gohkjkjl,na\"}\n",
    "d1.update(d2)\n",
    "print(d1)"
   ]
  },
  {
   "cell_type": "markdown",
   "id": "216fc72d",
   "metadata": {},
   "source": [
    "**45-Write a Python program to get the maximum and minimum values of a dictionary values"
   ]
  },
  {
   "cell_type": "code",
   "execution_count": 176,
   "id": "d6883f5f",
   "metadata": {},
   "outputs": [
    {
     "name": "stdout",
     "output_type": "stream",
     "text": [
      "7\n",
      "2\n"
     ]
    }
   ],
   "source": [
    "dd={1:2,2:4,3:6,3:7}\n",
    "print(max(dd.values()) )\n",
    "print(min(dd.values()))"
   ]
  },
  {
   "cell_type": "markdown",
   "id": "b6a53011",
   "metadata": {},
   "source": [
    "**46- Write a Python program to drop empty items from a given dictionary.\n",
    "Original Dictionary:\n",
    "{'c1': 'Red', 'c2': 'Green', 'c3': None}\n",
    "New Dictionary after dropping empty items:\n",
    "{'c1': 'Red', 'c2': 'Green'}"
   ]
  },
  {
   "cell_type": "code",
   "execution_count": 173,
   "id": "b5c6fecf",
   "metadata": {},
   "outputs": [
    {
     "name": "stdout",
     "output_type": "stream",
     "text": [
      "{'c1': 'Red', 'c2': 'Green'}\n"
     ]
    }
   ],
   "source": [
    "Original_Dictionary = {'c1': 'Red', 'c2': 'Green', 'c3': None}\n",
    "result = {}\n",
    "for keyess, values in Original_Dictionary.items():\n",
    "    if values is not None:\n",
    "        result[keyess] = values\n",
    "print(result)"
   ]
  },
  {
   "cell_type": "markdown",
   "id": "46d718c7",
   "metadata": {},
   "source": [
    "**47-Write a Python program to create a tuple of numbers and print one item"
   ]
  },
  {
   "cell_type": "code",
   "execution_count": 145,
   "id": "13216ff5",
   "metadata": {},
   "outputs": [
    {
     "name": "stdout",
     "output_type": "stream",
     "text": [
      "2\n"
     ]
    }
   ],
   "source": [
    "numbers = (1, 2, 3, 4, 5)\n",
    "print(numbers[1])"
   ]
  },
  {
   "cell_type": "markdown",
   "id": "2be5b56b",
   "metadata": {},
   "source": [
    "**48-Write a Python program to unpack a tuple into several variables"
   ]
  },
  {
   "cell_type": "code",
   "execution_count": 146,
   "id": "595f44be",
   "metadata": {},
   "outputs": [
    {
     "name": "stdout",
     "output_type": "stream",
     "text": [
      "1\n",
      "2\n",
      "4\n",
      "3\n"
     ]
    }
   ],
   "source": [
    "mytub = (1,2,3,4)\n",
    "a,b,mrr,c=mytub\n",
    "print(a)\n",
    "print(b)\n",
    "print(c)\n",
    "print(mrr)"
   ]
  },
  {
   "cell_type": "markdown",
   "id": "392388a7",
   "metadata": {},
   "source": [
    "**49-Write a Python program to add an item to a tuple"
   ]
  },
  {
   "cell_type": "code",
   "execution_count": 144,
   "id": "54cc092e",
   "metadata": {},
   "outputs": [
    {
     "name": "stdout",
     "output_type": "stream",
     "text": [
      "(1, 2, 3, 4, 8)\n"
     ]
    }
   ],
   "source": [
    "tb=(1,2,3,4)\n",
    "xck=list(tb)\n",
    "xck.append(8)\n",
    "xck=tuple(xck)\n",
    "print(xck)"
   ]
  },
  {
   "cell_type": "markdown",
   "id": "3e8fd124",
   "metadata": {},
   "source": [
    "**50-Write a Python program to convert a tuple to a string"
   ]
  },
  {
   "cell_type": "code",
   "execution_count": 119,
   "id": "92a71ddc",
   "metadata": {},
   "outputs": [
    {
     "name": "stdout",
     "output_type": "stream",
     "text": [
      "(2, 3, 45, 8, 71, 2, 9)\n"
     ]
    }
   ],
   "source": [
    "ltub = (2, 3, 45, 8, 71, 2, 9)\n",
    "print(str(ltub))"
   ]
  },
  {
   "cell_type": "markdown",
   "id": "f4f64ef4",
   "metadata": {},
   "source": [
    "**51-Write a Python program to convert a list to a tuple"
   ]
  },
  {
   "cell_type": "code",
   "execution_count": 117,
   "id": "210d56d3",
   "metadata": {},
   "outputs": [
    {
     "data": {
      "text/plain": [
       "(1, 2, 3, 4, 5)"
      ]
     },
     "execution_count": 117,
     "metadata": {},
     "output_type": "execute_result"
    }
   ],
   "source": [
    "w=[1,2,3,4,5]\n",
    "tuple(w)"
   ]
  },
  {
   "cell_type": "markdown",
   "id": "b1e00ef7",
   "metadata": {},
   "source": [
    "**52-Write a Python program to reverse a tuple"
   ]
  },
  {
   "cell_type": "code",
   "execution_count": 116,
   "id": "f45bfdc7",
   "metadata": {},
   "outputs": [
    {
     "name": "stdout",
     "output_type": "stream",
     "text": [
      "(9, 2, 71, 8, 45, 3, 2)\n"
     ]
    }
   ],
   "source": [
    "ltub = (2, 3, 45, 8, 71, 2, 9)\n",
    "print(ltub[::-1])\n",
    "\n"
   ]
  },
  {
   "cell_type": "markdown",
   "id": "3cd347d1",
   "metadata": {},
   "source": [
    "**53-Write a Python program to replace the last value of tuples in a list.\n",
    "Sample list: [(10, 20, 40), (40, 50, 60), (70, 80, 90)]\n",
    "Expected Output: [(10, 20, 100), (40, 50, 100), (70, 80, 100)]"
   ]
  },
  {
   "cell_type": "code",
   "execution_count": 115,
   "id": "3c4a2a4c",
   "metadata": {},
   "outputs": [
    {
     "name": "stdout",
     "output_type": "stream",
     "text": [
      "[(2, 3, 100), (5, 8, 100), (1, 2, 100)]\n"
     ]
    }
   ],
   "source": [
    "l_tub = [(2, 3, 4), (5, 8, 7), (1, 2, 9)]\n",
    "l = (100, 0)\n",
    "j = 0\n",
    "zz = []\n",
    "while j < 3:\n",
    "    zz.append(l_tub[j][:-1] + l[:-1])\n",
    "    j += 1\n",
    "\n",
    "print(zz)\n"
   ]
  },
  {
   "cell_type": "markdown",
   "id": "76bb7b39",
   "metadata": {},
   "source": [
    "**54-Write a Python program to convert a given string list to a tuple\n",
    "Original string: python 3.0\n",
    "<class 'str'>\n",
    "Convert the said string to a tuple:\n",
    "('p', 'y', 't', 'h', 'o', 'n', '3', '.', '0')"
   ]
  },
  {
   "cell_type": "code",
   "execution_count": 68,
   "id": "51951937",
   "metadata": {},
   "outputs": [
    {
     "data": {
      "text/plain": [
       "('p', 'y', 't', 'h', 'o', 'n', ' ', '3', '.', '0')"
      ]
     },
     "execution_count": 68,
     "metadata": {},
     "output_type": "execute_result"
    }
   ],
   "source": [
    "hj=\"python 3.0\"\n",
    "jh=[]\n",
    "for l in hj:\n",
    "    jh.append(l)\n",
    "jh=tuple(jh)\n",
    "jh"
   ]
  },
  {
   "cell_type": "markdown",
   "id": "5a1d5d97",
   "metadata": {},
   "source": [
    "**55-Write a Python program to calculate the average value of the numbers in a given tuple of tuples"
   ]
  },
  {
   "cell_type": "code",
   "execution_count": 59,
   "id": "834e7992",
   "metadata": {},
   "outputs": [
    {
     "name": "stdout",
     "output_type": "stream",
     "text": [
      "25.333333333333332\n"
     ]
    }
   ],
   "source": [
    "tub=(10,20,30,40,50)\n",
    "print(sum(tub)/len(tub))"
   ]
  },
  {
   "cell_type": "markdown",
   "id": "51edab9c",
   "metadata": {},
   "source": [
    "**56-Write a Python program to add member(s) to a set."
   ]
  },
  {
   "cell_type": "code",
   "execution_count": 53,
   "id": "2b65df79",
   "metadata": {},
   "outputs": [
    {
     "data": {
      "text/plain": [
       "{2, 4, 5, 7, 10, 13, 77, 99}"
      ]
     },
     "execution_count": 53,
     "metadata": {},
     "output_type": "execute_result"
    }
   ],
   "source": [
    "seett={5,4,2,4,7,10,13,77}\n",
    "seett.add(99)\n",
    "seett"
   ]
  },
  {
   "cell_type": "markdown",
   "id": "965590cc",
   "metadata": {},
   "source": [
    "**57-Write a Python program to remove an item from a set if it is present in the set."
   ]
  },
  {
   "cell_type": "code",
   "execution_count": 51,
   "id": "866bab28",
   "metadata": {},
   "outputs": [
    {
     "data": {
      "text/plain": [
       "{2, 4, 7, 10, 13, 77}"
      ]
     },
     "execution_count": 51,
     "metadata": {},
     "output_type": "execute_result"
    }
   ],
   "source": [
    "settt={5,4,2,4,7,10,13,77}\n",
    "settt.remove(5)\n",
    "settt\n"
   ]
  },
  {
   "cell_type": "markdown",
   "id": "2b7cfed1",
   "metadata": {},
   "source": [
    "**58-Write a Python program to create an intersection,union,difference and symmetric difference of sets"
   ]
  },
  {
   "cell_type": "code",
   "execution_count": 147,
   "id": "7f94b7fe",
   "metadata": {},
   "outputs": [
    {
     "name": "stdout",
     "output_type": "stream",
     "text": [
      "{1, 2, 3, 4, 5, 6, 7, 8, 9}\n",
      "{4, 5, 6}\n",
      "{1, 2, 3}\n",
      "{1, 2, 3, 7, 8, 9}\n"
     ]
    }
   ],
   "source": [
    "f = {1,2,3,4,5,6}\n",
    "s = {4,5,6,7,8,9}\n",
    "\n",
    "print(f | s)\n",
    "print(f & s)\n",
    "print(f -s)\n",
    "print(f^s)"
   ]
  },
  {
   "cell_type": "markdown",
   "id": "b94931e2",
   "metadata": {},
   "source": [
    "**59-Write a Python program to find the maximum and minimum values in a set"
   ]
  },
  {
   "cell_type": "code",
   "execution_count": 48,
   "id": "203f9600",
   "metadata": {},
   "outputs": [
    {
     "name": "stdout",
     "output_type": "stream",
     "text": [
      "77\n",
      "2\n"
     ]
    }
   ],
   "source": [
    "sett={5,4,2,4,7,10,13,77}\n",
    "print(max(sett))\n",
    "print(min(sett))"
   ]
  },
  {
   "cell_type": "markdown",
   "id": "255fd554",
   "metadata": {},
   "source": [
    "**60- Write a Python program that finds all pairs of elements in a list whose sum is equal to a given value."
   ]
  },
  {
   "cell_type": "code",
   "execution_count": 153,
   "id": "c2d94e1f",
   "metadata": {},
   "outputs": [
    {
     "name": "stdout",
     "output_type": "stream",
     "text": [
      "Pairs with sum 10: [(1, 9), (2, 8), (3, 7), (4, 6)]\n"
     ]
    }
   ],
   "source": [
    "input_list = [1, 2, 3, 4, 5, 6, 7, 8, 9]\n",
    "pairs = []\n",
    "for i in range(len(input_list)):\n",
    "        for j in range(i + 1, len(input_list)): ##########\n",
    "            if input_list[i] + input_list[j] == 10:\n",
    "                pairs.append((input_list[i], input_list[j]))    \n",
    "print(f\"Pairs with sum 10:\", pairs)\n"
   ]
  }
 ],
 "metadata": {
  "kernelspec": {
   "display_name": "Python 3 (ipykernel)",
   "language": "python",
   "name": "python3"
  },
  "language_info": {
   "codemirror_mode": {
    "name": "ipython",
    "version": 3
   },
   "file_extension": ".py",
   "mimetype": "text/x-python",
   "name": "python",
   "nbconvert_exporter": "python",
   "pygments_lexer": "ipython3",
   "version": "3.11.4"
  }
 },
 "nbformat": 4,
 "nbformat_minor": 5
}
