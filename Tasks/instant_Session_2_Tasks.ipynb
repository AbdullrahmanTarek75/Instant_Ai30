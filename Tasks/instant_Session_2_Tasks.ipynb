{
  "cells": [
    {
      "cell_type": "markdown",
      "metadata": {
        "id": "N8blBjfzqU6I"
      },
      "source": [
        "# Session 2 Tasks"
      ]
    },
    {
      "cell_type": "markdown",
      "metadata": {
        "id": "10XjML4cqZa4"
      },
      "source": [
        "1. Create 3 variables to store street, city and country, now create address variable to\n",
        "store entire address. Use two ways of creating this variable, one using + operator and the other using f-string.\n",
        "Now Print the address in such a way that the street, city and country prints in a separate line\n",
        "2. Create a variable to store the string \"Earth revolves around the sun\"\n",
        "    1. Print \"revolves\" using slice operator\n",
        "    2. Print \"sun\" using negative index\n",
        "3. Create two variables to store how many fruits and vegetables you eat in a day.\n",
        "Now Print \"I eat x veggies and y fruits daily\" where x and y presents vegetables and fruits that you eat everyday. Use python f string for this.\n",
        "4. I have a string variable called s='maine 200 banana khaye'. This of course is a\n",
        "wrong statement, the correct statement is 'maine 10 samosa khaye'.\n",
        "Replace incorrect words in original strong with new ones and print the new string.\n",
        "Also try to do this in one line.\n"
      ]
    },
    {
      "cell_type": "code",
      "execution_count": 5,
      "metadata": {
        "id": "P4EUN6nuqUPf"
      },
      "outputs": [
        {
          "name": "stdout",
          "output_type": "stream",
          "text": [
            "first way is \n",
            "ahmed\n",
            "orabi\n",
            "shoubra\n",
            "\n",
            "second way is \n",
            "ahmed\n",
            "orabi\n",
            "shoubra\n"
          ]
        }
      ],
      "source": [
        "street=input(\"enter your street\")\n",
        "city=input(\"enter your city\")\n",
        "country=input(\"enter your country\")\n",
        "\n",
        "address=street+ \"\\n\"+city+\"\\n\"+country\n",
        "adres=f\"{street}\\n{city}\\n{country}\"\n",
        "print(\"first way is \\n\"+address)\n",
        "print(\"\\nsecond way is \\n\"+adres)\n"
      ]
    },
    {
      "cell_type": "code",
      "execution_count": 21,
      "metadata": {},
      "outputs": [
        {
          "name": "stdout",
          "output_type": "stream",
          "text": [
            "revolves\n",
            "sun\n"
          ]
        }
      ],
      "source": [
        "x=\"Earth revolves around the sun\"\n",
        "print(x[6:14])\n",
        "print(x[-3::1]) "
      ]
    },
    {
      "cell_type": "code",
      "execution_count": 24,
      "metadata": {},
      "outputs": [
        {
          "name": "stdout",
          "output_type": "stream",
          "text": [
            "I eat 5 veggies and 10 fruits daily\n"
          ]
        }
      ],
      "source": [
        "fruits =int(input(\"enter fruits\"))\n",
        "vegetables= int(input(\"Enter vegetables: \"))\n",
        "print(f\"I eat {fruits} veggies and {vegetables} fruits daily\")\n"
      ]
    },
    {
      "cell_type": "code",
      "execution_count": 25,
      "metadata": {},
      "outputs": [
        {
          "name": "stdout",
          "output_type": "stream",
          "text": [
            "maine 10 samosa khaye\n"
          ]
        }
      ],
      "source": [
        "s=\"maine 200 banana khaye\"\n",
        "print(s.replace(\"200\",\"10\").replace(\"banana\",\"samosa\"))\n"
      ]
    },
    {
      "cell_type": "markdown",
      "metadata": {
        "id": "B98K3rbAqz7e"
      },
      "source": [
        "1. Let us say your expense for every month are listed below.\n",
        "\t  1. January -  2200\n",
        "    2. February - 2350\n",
        "    3. March - 2600\n",
        "    4. April - 2130\n",
        "    5. May - 2190\n",
        "\n",
        "Create a list to store these monthly expenses and using that find out,\n",
        "\n",
        "    1. In Feb, how many dollars you spent extra compare to January?\n",
        "    2. Find out your total expense in first quarter (first three months) of the year.\n",
        "    3. Find out if you spent exactly 2000 dollars in any month\n",
        "    4. June month just finished and your expense is 1980 dollar. Add this item to our monthly expense list\n",
        "    5. You returned an item that you bought in a month of April and\n",
        "    got a refund of 200$. Make a correction to your monthly expense list\n",
        "    based on this\n",
        "\n",
        "2. You have a list of your favourite marvel super heros.\n",
        "```\n",
        "heros=['spider man','thor','hulk','iron man','captain america']\n",
        "```\n",
        "\n",
        "Using this find out,\n",
        "\n",
        "    1. Length of the list\n",
        "    2. Add 'black panther' at the end of this list\n",
        "    3. You realize that you need to add 'black panther' after 'hulk',\n",
        "       so remove it from the list first and then add it after 'hulk'\n",
        "    4. Now you don't like thor and hulk because they get angry easily :)\n",
        "       So you want to remove thor and hulk from list and replace them with doctor strange (because he is cool).\n",
        "       Do that with one line of code.\n",
        "    5. Sort the heros list in alphabetical order (Hint. Use dir() functions to list down all functions available in list)\n",
        "\n",
        "\n",
        "\n",
        "\n"
      ]
    },
    {
      "cell_type": "code",
      "execution_count": 32,
      "metadata": {},
      "outputs": [
        {
          "name": "stdout",
          "output_type": "stream",
          "text": [
            "dollars you spent extra compare to jan is 150 dollars\n",
            "dollars you spent in  first quarter is  7150\n",
            "You did not  spend exactly 2000 dollars in any month.\n",
            "[2200, 2350, 2600, 2130, 2190, 1980]\n",
            "[2200, 2350, 2600, 1930, 2190, 1980]\n"
          ]
        }
      ],
      "source": [
        "month=[ 2200,  2350,  2600, 2130, 2190]\n",
        "print(\"dollars you spent extra compare to jan is\",month[1]-month[0],\"dollars\")\n",
        "print(\"dollars you spent in  first quarter is \",(month[0]+month[1]+month[2]))\n",
        "if 2000 in month:\n",
        "    print(\"You did  spend exactly 2000 dollars in any month.\")\n",
        "else:\n",
        "     print(\"You did not  spend exactly 2000 dollars in any month.\")\n",
        "month.append(1980)\n",
        "print(month)\n",
        "month[3]-=200\n",
        "print(month)"
      ]
    },
    {
      "cell_type": "code",
      "execution_count": 4,
      "metadata": {
        "id": "vvus0ZOlrzJS"
      },
      "outputs": [
        {
          "name": "stdout",
          "output_type": "stream",
          "text": [
            "5\n",
            "['spider man', 'thor', 'hulk', 'iron man', 'captain america', 'black panther']\n",
            "['spider man', 'thor', 'hulk', 'black panther', 'iron man', 'captain america']\n",
            "['spider man', 'doctor strange', 'black panther', 'iron man', 'captain america']\n",
            "['black panther', 'captain america', 'doctor strange', 'iron man', 'spider man']\n"
          ]
        }
      ],
      "source": [
        "heros=[\"spider man\",\"thor\",\"hulk\",\"iron man\",\"captain america\"]\n",
        "print(len(heros))\n",
        "heros.append(\"black panther\")\n",
        "print(heros)\n",
        "heros.remove(\"black panther\")\n",
        "heros.insert(3,\"black panther\")\n",
        "print(heros)\n",
        "heros.remove(\"thor\")\n",
        "heros.remove(\"hulk\")\n",
        "heros.insert(1,\"doctor strange\")\n",
        "print(heros)\n",
        "heros.sort()\n",
        "print(heros)\n"
      ]
    },
    {
      "cell_type": "markdown",
      "metadata": {
        "id": "ojrpvhohrzgJ"
      },
      "source": [
        "Write a program that prints following shape\n",
        "\n",
        "```\n",
        "    *\n",
        "   ***\n",
        "  *****\n",
        " *******\n",
        "*********\n",
        " *******\n",
        "  *****\n",
        "   ***\n",
        "    *\n",
        "```\n",
        "\n"
      ]
    },
    {
      "cell_type": "code",
      "execution_count": 2,
      "metadata": {
        "id": "Ad-hutpdsCJ6"
      },
      "outputs": [
        {
          "name": "stdout",
          "output_type": "stream",
          "text": [
            "     *\n",
            "    ***\n",
            "   *****\n",
            "  *******\n",
            " *********\n",
            "  *******\n",
            "   *****\n",
            "    ***\n",
            "     *\n"
          ]
        }
      ],
      "source": [
        "n = 10\n",
        "i = 1\n",
        "while i <= n:\n",
        "     if i%2 != 0:\n",
        "          print(\" \"*((n-i)//2),\"*\" * i)\n",
        "     i+=1\n",
        "j=7\n",
        "while j>=1:\n",
        "    if j%2 != 0:\n",
        "           print(\" \"*((n-j)//2),\"*\" *j)\n",
        "    j-=1"
      ]
    },
    {
      "cell_type": "code",
      "execution_count": 1,
      "metadata": {},
      "outputs": [
        {
          "name": "stdout",
          "output_type": "stream",
          "text": [
            "    *\n",
            "   ***\n",
            "  *****\n",
            " *******\n",
            "*********\n",
            " *******\n",
            "  *****\n",
            "   ***\n",
            "    *\n"
          ]
        }
      ],
      "source": [
        "n = 5\n",
        "i = 0\n",
        "while i < n:\n",
        "    j = 0\n",
        "    while j < n - i - 1:\n",
        "        print(\" \", end=\"\")\n",
        "        j += 1\n",
        "    j = 0\n",
        "    while j < 2 * i + 1:\n",
        "        print(\"*\", end=\"\")\n",
        "        j += 1\n",
        "    print()\n",
        "    i += 1\n",
        "\n",
        "i = n - 2\n",
        "while i >= 0:\n",
        "    j = 0\n",
        "    while j < n - i - 1:\n",
        "        print(\" \", end=\"\")\n",
        "        j += 1\n",
        "    j = 0\n",
        "    while j < 2 * i + 1:\n",
        "        print(\"*\", end=\"\")\n",
        "        j += 1\n",
        "    print()\n",
        "    i -= 1"
      ]
    }
  ],
  "metadata": {
    "colab": {
      "provenance": []
    },
    "kernelspec": {
      "display_name": "Python 3",
      "name": "python3"
    },
    "language_info": {
      "codemirror_mode": {
        "name": "ipython",
        "version": 3
      },
      "file_extension": ".py",
      "mimetype": "text/x-python",
      "name": "python",
      "nbconvert_exporter": "python",
      "pygments_lexer": "ipython3",
      "version": "3.11.4"
    }
  },
  "nbformat": 4,
  "nbformat_minor": 0
}
