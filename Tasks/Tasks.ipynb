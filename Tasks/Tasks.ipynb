{
 "cells": [
  {
   "cell_type": "code",
   "execution_count": 3,
   "metadata": {},
   "outputs": [
    {
     "name": "stdout",
     "output_type": "stream",
     "text": [
      "number is equal 10\n"
     ]
    }
   ],
   "source": [
    "x=int(input(\"please enter a number \"))\n",
    "if x>10:\n",
    "    print(\"number is greater than 10\")\n",
    "elif x==10:\n",
    "    print(\"number is equal 10\")\n",
    "else:\n",
    "    print(\"number is smaller than 10\")"
   ]
  },
  {
   "cell_type": "code",
   "execution_count": 5,
   "metadata": {},
   "outputs": [
    {
     "name": "stdout",
     "output_type": "stream",
     "text": [
      "9 is odd\n"
     ]
    }
   ],
   "source": [
    "x=int(input(\"please enter a number \"))\n",
    "if x%2==0:\n",
    "    print(x,\"is even\")\n",
    "else:\n",
    "    print(x,\"is odd\")"
   ]
  },
  {
   "cell_type": "code",
   "execution_count": 2,
   "metadata": {},
   "outputs": [
    {
     "name": "stdout",
     "output_type": "stream",
     "text": [
      "5\n"
     ]
    }
   ],
   "source": [
    "x=int(input(\"please enter a number \"))\n",
    "if x>0:\n",
    "    print(x)\n",
    "else:\n",
    "    print(x*-1)"
   ]
  },
  {
   "cell_type": "code",
   "execution_count": 5,
   "metadata": {},
   "outputs": [
    {
     "name": "stdout",
     "output_type": "stream",
     "text": [
      "5\n"
     ]
    }
   ],
   "source": [
    "y=int(input(\"please enter a number \"))\n",
    "print(abs(y))"
   ]
  },
  {
   "cell_type": "code",
   "execution_count": 5,
   "metadata": {},
   "outputs": [
    {
     "name": "stdout",
     "output_type": "stream",
     "text": [
      "leap year\n"
     ]
    }
   ],
   "source": [
    "year=int(input(\"Please enter year\"))\n",
    "if year % 100==0 and year%400 != 0:\n",
    "    print(\"not leap year\")\n",
    "else:\n",
    "    if year%4 == 0  :\n",
    "        print(\"leap year\")\n"
   ]
  },
  {
   "cell_type": "code",
   "execution_count": 10,
   "metadata": {},
   "outputs": [
    {
     "name": "stdout",
     "output_type": "stream",
     "text": [
      "the oldest person is 30\n",
      "the yougest person is 10\n",
      "the  among them is 20\n"
     ]
    }
   ],
   "source": [
    "x=int(input(\"please enter first age\"))\n",
    "y=int(input(\"please enter second age\"))\n",
    "z=int(input(\"please enter third age\"))\n",
    "if x>y and x>z :\n",
    "     print (\"the oldest person is\",x) \n",
    "elif y>x and y>z:\n",
    "    print (\"the oldest person is\",y)\n",
    "else:\n",
    "   print (\"the oldest person is\",z)\n",
    "if x<y and x<z :\n",
    "     print (\"the yougest person is\",x) \n",
    "elif y<x and y<z:\n",
    "    print (\"the yougest person is\",y)\n",
    "else:\n",
    "   print (\"the yougest person is\",z)\n",
    "\n",
    "if x>y and x<z :\n",
    "     print (\"the  among them  is\",x) \n",
    "elif y>x and y<z:\n",
    "    print (\"the  among them is\",y)\n",
    "else:\n",
    "   print (\"the  among them is\",z)"
   ]
  },
  {
   "cell_type": "code",
   "execution_count": 15,
   "metadata": {},
   "outputs": [
    {
     "name": "stdout",
     "output_type": "stream",
     "text": [
      "the oldest person is 77\n",
      "the yougest person is 5\n",
      "the among them is 9\n"
     ]
    }
   ],
   "source": [
    "x=int(input(\"please enter first age\"))\n",
    "y=int(input(\"please enter second age\"))\n",
    "z=int(input(\"please enter third age\"))\n",
    "print(\"the oldest person is\",max(x,y,z))\n",
    "print(\"the yougest person is\",min(x,y,z))\n",
    "print(\"the among them is\",(x+y+z)-(max(x,y,z)+min(x,y,z)))"
   ]
  },
  {
   "cell_type": "code",
   "execution_count": 1,
   "metadata": {},
   "outputs": [
    {
     "name": "stdout",
     "output_type": "stream",
     "text": [
      "the sum of the positive numbers is 25\n"
     ]
    }
   ],
   "source": [
    "sum=0\n",
    "while True:\n",
    "    x=int(input(\"Enter a number: \"))\n",
    "    if(x>0):\n",
    "        sum+=x\n",
    "    else :\n",
    "        break\n",
    "print(\"the sum of the positive numbers is\",sum)"
   ]
  },
  {
   "cell_type": "code",
   "execution_count": 4,
   "metadata": {},
   "outputs": [
    {
     "name": "stdout",
     "output_type": "stream",
     "text": [
      "klhk and your age is: 55 ,You are eligible to vote\n"
     ]
    },
    {
     "ename": "ValueError",
     "evalue": "invalid literal for int() with base 10: ''",
     "output_type": "error",
     "traceback": [
      "\u001b[1;31m---------------------------------------------------------------------------\u001b[0m",
      "\u001b[1;31mValueError\u001b[0m                                Traceback (most recent call last)",
      "Cell \u001b[1;32mIn[4], line 3\u001b[0m\n\u001b[0;32m      1\u001b[0m \u001b[38;5;28;01mwhile\u001b[39;00m \u001b[38;5;28;01mTrue\u001b[39;00m:\n\u001b[0;32m      2\u001b[0m     x\u001b[38;5;241m=\u001b[39m\u001b[38;5;28minput\u001b[39m(\u001b[38;5;124m\"\u001b[39m\u001b[38;5;124mEnter your name: \u001b[39m\u001b[38;5;124m\"\u001b[39m)\n\u001b[1;32m----> 3\u001b[0m     age\u001b[38;5;241m=\u001b[39m\u001b[38;5;28;43mint\u001b[39;49m\u001b[43m(\u001b[49m\u001b[38;5;28;43minput\u001b[39;49m\u001b[43m(\u001b[49m\u001b[38;5;124;43m\"\u001b[39;49m\u001b[38;5;124;43mEnter your age: \u001b[39;49m\u001b[38;5;124;43m\"\u001b[39;49m\u001b[43m)\u001b[49m\u001b[43m)\u001b[49m\n\u001b[0;32m      4\u001b[0m     \u001b[38;5;28;01mif\u001b[39;00m(age\u001b[38;5;241m>\u001b[39m\u001b[38;5;241m=\u001b[39m\u001b[38;5;241m18\u001b[39m):\n\u001b[0;32m      5\u001b[0m         \u001b[38;5;28mprint\u001b[39m(x,\u001b[38;5;124m\"\u001b[39m\u001b[38;5;124mand your age is:\u001b[39m\u001b[38;5;124m\"\u001b[39m,age,\u001b[38;5;124m\"\u001b[39m\u001b[38;5;124m,You are eligible to vote\u001b[39m\u001b[38;5;124m\"\u001b[39m)\n",
      "\u001b[1;31mValueError\u001b[0m: invalid literal for int() with base 10: ''"
     ]
    }
   ],
   "source": [
    "while True:\n",
    "    x=input(\"Enter your name: \")\n",
    "    age=int(input(\"Enter your age: \"))\n",
    "    if(age>=18):\n",
    "        print(x,\"and your age is:\",age,\",You are eligible to vote\")\n",
    "    else:\n",
    "        print(x,\"and your age is:\",age,\",You are not eligible to vote due to being underage\")"
   ]
  },
  {
   "cell_type": "code",
   "execution_count": 31,
   "metadata": {},
   "outputs": [
    {
     "data": {
      "text/plain": [
       "28"
      ]
     },
     "execution_count": 31,
     "metadata": {},
     "output_type": "execute_result"
    }
   ],
   "source": [
    "import sys\n",
    "a=False\n",
    "sys.getsizeof(a)\n"
   ]
  },
  {
   "cell_type": "code",
   "execution_count": 5,
   "metadata": {},
   "outputs": [
    {
     "name": "stdout",
     "output_type": "stream",
     "text": [
      "8\n"
     ]
    }
   ],
   "source": [
    "n=125 \n",
    "sum=0\n",
    "while n>0:\n",
    "    r=n%10\n",
    "    n=n//10\n",
    "    sum+=r\n",
    "print(sum)"
   ]
  },
  {
   "cell_type": "code",
   "execution_count": 52,
   "metadata": {},
   "outputs": [
    {
     "name": "stdout",
     "output_type": "stream",
     "text": [
      "    *\n",
      "   ***\n",
      "  *****\n",
      " *******\n",
      " *******\n",
      "  *****\n",
      "   ***\n",
      "    *\n"
     ]
    }
   ],
   "source": [
    "n = 7\n",
    "i = 1\n",
    "while i <= n:\n",
    "    \n",
    "     print(\" \"*((n-i)//2),\"*\" * i)\n",
    "     i += 2\n",
    "j=7\n",
    "while j>=1:\n",
    "    print(\" \"*((n-j)//2),\"*\" *j)\n",
    "    j-=2"
   ]
  }
 ],
 "metadata": {
  "kernelspec": {
   "display_name": "Python 3",
   "language": "python",
   "name": "python3"
  },
  "language_info": {
   "codemirror_mode": {
    "name": "ipython",
    "version": 3
   },
   "file_extension": ".py",
   "mimetype": "text/x-python",
   "name": "python",
   "nbconvert_exporter": "python",
   "pygments_lexer": "ipython3",
   "version": "3.11.4"
  }
 },
 "nbformat": 4,
 "nbformat_minor": 2
}
